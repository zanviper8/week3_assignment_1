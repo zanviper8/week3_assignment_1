{
 "cells": [
  {
   "cell_type": "markdown",
   "id": "84b3cc8e-dbf0-4fbe-95be-55959a9da44c",
   "metadata": {},
   "source": [
    "Q1. Which keyword is used to create a function? Create a function to return a list of odd numbers in the\n",
    "range of 1 to 25."
   ]
  },
  {
   "cell_type": "code",
   "execution_count": 7,
   "id": "248e5613-1c9b-45f0-98d5-00a163886a7b",
   "metadata": {},
   "outputs": [],
   "source": [
    "\n",
    "The keyword used to create a function in Python is def\n",
    "\n",
    "def odd(n):\n",
    "    list_odd = []\n",
    "    for i in range(n):\n",
    "        if i%2 != 0:\n",
    "            list_odd.append(i)\n",
    "    return list_odd\n",
    "        "
   ]
  },
  {
   "cell_type": "code",
   "execution_count": 8,
   "id": "e9e66cfb-bf22-4f2b-ac8d-291ffa6b51ff",
   "metadata": {},
   "outputs": [
    {
     "data": {
      "text/plain": [
       "[1, 3, 5, 7, 9, 11, 13, 15, 17, 19, 21, 23]"
      ]
     },
     "execution_count": 8,
     "metadata": {},
     "output_type": "execute_result"
    }
   ],
   "source": [
    "odd(25)"
   ]
  },
  {
   "cell_type": "markdown",
   "id": "85f724db-8db1-4bbf-8bc5-8cc4543edf40",
   "metadata": {},
   "source": [
    "Q2. Why *args and **kwargs is used in some functions? Create a function each for *args and **kwargs\n",
    "to demonstrate their use."
   ]
  },
  {
   "cell_type": "code",
   "execution_count": 10,
   "id": "858471e7-16b7-47b7-957c-7d7554296811",
   "metadata": {},
   "outputs": [
    {
     "name": "stdout",
     "output_type": "stream",
     "text": [
      "60\n",
      "name:Shyam\n",
      "age:25\n",
      "email:shyamdas1997@gmail.com\n"
     ]
    }
   ],
   "source": [
    "'''\n",
    "*args and **kwargs are used in some functions to allow the function to accept an arbitrary number of arguments. \n",
    "This can be useful for functions that need to be able to handle a variable number of inputs.\n",
    "'''\n",
    "# For example, the following function uses *args to accept an arbitrary number of numbers:\n",
    "\n",
    "def add_of_nos (*args):\n",
    "    sum= 0\n",
    "    for i in args:\n",
    "        sum = i+sum\n",
    "    return sum\n",
    "\n",
    "print(add_of_nos(10,20,30))\n",
    "\n",
    "\"\"\"\n",
    "**kwargs can be used to accept an arbitrary number of keyword arguments. \n",
    "This can be useful for functions that need to be able to handle a variable number of inputs with different names.\n",
    "\"\"\"\n",
    "#For example, the following function uses **kwargs to accept an arbitrary number of keyword arguments:\n",
    "\n",
    "def key_value(**kwargs):\n",
    "    for key, value in kwargs.items():\n",
    "        print(f'{key}:{value}')\n",
    "        \n",
    "key_value(name = 'Shyam', age = 25, email = 'shyamdas1997@gmail.com')\n",
    "\n"
   ]
  },
  {
   "cell_type": "markdown",
   "id": "93f74f26-cd95-4e7c-886c-39513d597a85",
   "metadata": {},
   "source": [
    "Q3. What is an iterator in python? Name the method used to initialise the iterator object and the method\n",
    "used for iteration. Use these methods to print the first five elements of the given list [2, 4, 6, 8, 10, 12, 14,\n",
    "16, 18, 20]."
   ]
  },
  {
   "cell_type": "code",
   "execution_count": 24,
   "id": "d994941d-2a95-43de-8053-6da3331502ef",
   "metadata": {},
   "outputs": [
    {
     "name": "stdout",
     "output_type": "stream",
     "text": [
      "2\n",
      "4\n",
      "6\n",
      "8\n",
      "10\n"
     ]
    }
   ],
   "source": [
    "\"\"\"\n",
    "An iterator in Python is an object that can be used to iterate over a sequence of data. \n",
    "Iterators are implemented using the iterator protocol, which consists of two methods: __iter__() and __next__().\n",
    "\n",
    "The __iter__() method is used to initialize the iterator object. \n",
    "The __next__() method is used to get the next item in the sequence. \n",
    "When the __next__() method is called and there are no more items in the sequence, it will raise a StopIteration exception.\n",
    "\"\"\"\n",
    "#To print the first five elements of the list [2, 4, 6, 8, 10, 12, 14, 16, 18, 20], we can use the following code:\n",
    "\n",
    "l = [2, 4, 6, 8, 10, 12, 14, 16, 18, 20]\n",
    "elements = iter(l)\n",
    "\n",
    "for i in range(5):\n",
    "    print(next(elements))\n"
   ]
  },
  {
   "cell_type": "markdown",
   "id": "cf7f175e-9632-4b78-84ed-d4503870ee6a",
   "metadata": {},
   "source": [
    "Q4. What is a generator function in python? Why yield keyword is used? Give an example of a generator\n",
    "function."
   ]
  },
  {
   "cell_type": "code",
   "execution_count": 26,
   "id": "c6228416-890e-422d-834d-8348d64e311c",
   "metadata": {},
   "outputs": [
    {
     "name": "stdout",
     "output_type": "stream",
     "text": [
      "[0, 2, 4, 6, 8, 10]\n"
     ]
    }
   ],
   "source": [
    "\"\"\"\n",
    "A generator function in Python is a function that produces a sequence of values, one at a time. \n",
    "Generator functions are created using the yield keyword. \n",
    "The yield keyword is used to suspend the execution of the function and return a value. \n",
    "When the function is called again, it will resume execution from the point where it was suspended.\n",
    "\"\"\"\n",
    "\n",
    "#Here's an example of a generator function that generates a sequence of even numbers up to a given limit:\n",
    "\n",
    "def evn(n):\n",
    "    evn_num = 0\n",
    "    while evn_num <= n:\n",
    "        yield evn_num\n",
    "        evn_num = evn_num + 2\n",
    "even_number = evn(10)\n",
    "print(list(even_number))\n"
   ]
  },
  {
   "cell_type": "markdown",
   "id": "7a37c404-239d-4453-a459-ed632916e202",
   "metadata": {},
   "source": [
    "Q5. Create a generator function for prime numbers less than 1000. Use the next() method to print the\n",
    "first 20 prime numbers."
   ]
  },
  {
   "cell_type": "code",
   "execution_count": 24,
   "id": "bce35177-d67d-4f10-ac6a-68144a0d606f",
   "metadata": {},
   "outputs": [
    {
     "name": "stdout",
     "output_type": "stream",
     "text": [
      "2  3  5  7  11  13  17  19  23  29  31  37  41  43  47  53  59  61  67  71  "
     ]
    }
   ],
   "source": [
    "def prime_num(n):\n",
    "  \n",
    "  if n < 2:\n",
    "    return\n",
    "\n",
    "  for i in range(2, n):\n",
    "    for j in range(2, i):\n",
    "      \tif i % j == 0:\n",
    "        \tbreak\n",
    "    else:\n",
    "      \tyield i\n",
    "\n",
    "pm = prime_num(1000)\n",
    "for k in range (20):\n",
    "    print(next(pm), end= '  ')"
   ]
  },
  {
   "cell_type": "markdown",
   "id": "02ce96fd-a2e1-43bb-9abb-07981c30eb7a",
   "metadata": {},
   "source": [
    "Q6. Write a python program to print the first 10 Fibonacci numbers using a while loop."
   ]
  },
  {
   "cell_type": "code",
   "execution_count": 7,
   "id": "9f832e90-bcb4-43a5-84ed-e77845e1f7ee",
   "metadata": {},
   "outputs": [
    {
     "name": "stdout",
     "output_type": "stream",
     "text": [
      "0 1 1 2 3 5 8 13 21 34 "
     ]
    }
   ],
   "source": [
    "a= 0\n",
    "b= 1\n",
    "i = 1\n",
    "while i <= 10:\n",
    "    print(a, end=' ')\n",
    "    a,b = b, a+b\n",
    "    i +=1\n",
    "\n"
   ]
  },
  {
   "cell_type": "markdown",
   "id": "0fa90a41-bc2d-487e-b3fd-2d2eb2a6a9e8",
   "metadata": {},
   "source": [
    "Q7. Write a List Comprehension to iterate through the given string: ‘pwskills’.\n",
    "Expected output: ['p', 'w', 's', 'k', 'i', 'l', 'l', 's']"
   ]
  },
  {
   "cell_type": "code",
   "execution_count": 16,
   "id": "e158ef7d-5c6c-4bc7-a95c-7900b5b1fa49",
   "metadata": {},
   "outputs": [
    {
     "name": "stdout",
     "output_type": "stream",
     "text": [
      "['p', 'w', 's', 'k', 'i', 'l', 'l', 's']\n"
     ]
    }
   ],
   "source": [
    "s = 'pwskills'\n",
    "l = [i for i in s]\n",
    "print(l)"
   ]
  },
  {
   "cell_type": "markdown",
   "id": "7c1f3f1a-89e8-4a22-9dc7-b7e51131428a",
   "metadata": {},
   "source": [
    "Q8. Write a python program to check whether a given number is Palindrome or not using a while loop."
   ]
  },
  {
   "cell_type": "code",
   "execution_count": 8,
   "id": "9e1e9da5-cfb9-40cd-9087-13e6659566eb",
   "metadata": {},
   "outputs": [
    {
     "name": "stdin",
     "output_type": "stream",
     "text": [
      "Enter the number:  123454321\n"
     ]
    },
    {
     "name": "stdout",
     "output_type": "stream",
     "text": [
      "Entered number 123454321 is a Palindrome number\n"
     ]
    }
   ],
   "source": [
    "num = int(input('Enter the number: '))\n",
    "rev = 0\n",
    "original_num = num\n",
    "while num>0:\n",
    "    digit = num % 10\n",
    "    rev = rev * 10 + digit\n",
    "    num = num // 10\n",
    "if original_num == rev:\n",
    "    print(f'Entered number {original_num} is a Palindrome number')\n",
    "else:\n",
    "    print(f'Entered number {original_num} is not a palindrome number')\n"
   ]
  },
  {
   "cell_type": "markdown",
   "id": "72285e2c-0f93-4b2d-b62b-e047193de049",
   "metadata": {},
   "source": [
    "Q9. Write a code to print odd numbers from 1 to 100 using list comprehension."
   ]
  },
  {
   "cell_type": "code",
   "execution_count": 19,
   "id": "4b70b349-5e2c-4579-a4f7-076e5187eeec",
   "metadata": {},
   "outputs": [
    {
     "name": "stdout",
     "output_type": "stream",
     "text": [
      "[1, 3, 5, 7, 9, 11, 13, 15, 17, 19, 21, 23, 25, 27, 29, 31, 33, 35, 37, 39, 41, 43, 45, 47, 49, 51, 53, 55, 57, 59, 61, 63, 65, 67, 69, 71, 73, 75, 77, 79, 81, 83, 85, 87, 89, 91, 93, 95, 97, 99]\n"
     ]
    }
   ],
   "source": [
    "odd_num=[i for i in range (1, 101) if i%2 !=0]\n",
    "print(odd_num)"
   ]
  }
 ],
 "metadata": {
  "kernelspec": {
   "display_name": "Python 3 (ipykernel)",
   "language": "python",
   "name": "python3"
  },
  "language_info": {
   "codemirror_mode": {
    "name": "ipython",
    "version": 3
   },
   "file_extension": ".py",
   "mimetype": "text/x-python",
   "name": "python",
   "nbconvert_exporter": "python",
   "pygments_lexer": "ipython3",
   "version": "3.10.8"
  }
 },
 "nbformat": 4,
 "nbformat_minor": 5
}
